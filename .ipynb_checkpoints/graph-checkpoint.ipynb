{
 "cells": [
  {
   "cell_type": "code",
   "execution_count": null,
   "id": "2c8d35b2-0c6a-4394-9fc9-ba824c6d9a98",
   "metadata": {},
   "outputs": [],
   "source": [
    "%run graph.py"
   ]
  }
 ],
 "metadata": {
  "interpreter": {
   "hash": "e8347f64ddcccad4bdc43f1b5eaf0d4045b8384394a64a58c70c4b36e1c995d1"
  },
  "kernelspec": {
   "display_name": "Python 3 (ipykernel)",
   "language": "python",
   "name": "python3"
  },
  "language_info": {
   "codemirror_mode": {
    "name": "ipython",
    "version": 3
   },
   "file_extension": ".py",
   "mimetype": "text/x-python",
   "name": "python",
   "nbconvert_exporter": "python",
   "pygments_lexer": "ipython3",
   "version": "3.9.7"
  }
 },
 "nbformat": 4,
 "nbformat_minor": 5
}
