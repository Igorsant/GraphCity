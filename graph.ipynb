{
 "cells": [
  {
   "cell_type": "code",
   "execution_count": 23,
   "id": "ea9a97c8-ad0a-4eee-8b14-3f7d122c588e",
   "metadata": {},
   "outputs": [
    {
     "ename": "IndentationError",
     "evalue": "unindent does not match any outer indentation level (graph.py, line 218)",
     "output_type": "error",
     "traceback": [
      "\u001b[1;36m  File \u001b[1;32m\"C:\\Users\\Divaldo Júnior\\Desktop\\Unifor\\IA\\GraphCity\\graph.py\"\u001b[1;36m, line \u001b[1;32m218\u001b[0m\n\u001b[1;33m    if (currentNode.x > 0 and not self.targetFound):\u001b[0m\n\u001b[1;37m                                                    ^\u001b[0m\n\u001b[1;31mIndentationError\u001b[0m\u001b[1;31m:\u001b[0m unindent does not match any outer indentation level\n"
     ]
    }
   ],
   "source": [
    "%run graph.py"
   ]
  },
  {
   "cell_type": "markdown",
   "id": "982592b8-a5ae-4804-ba92-7b464c580d28",
   "metadata": {},
   "source": [
    "# for x in range(3):\n",
    "    string = ['a', 'b', 'c']\n",
    "    print(string[x], end='\\r')\n",
    "    time.sleep(1)"
   ]
  },
  {
   "cell_type": "code",
   "execution_count": null,
   "id": "7cc9b7a6-f603-492c-876e-4c63c28fd6e5",
   "metadata": {},
   "outputs": [],
   "source": []
  }
 ],
 "metadata": {
  "interpreter": {
   "hash": "e8347f64ddcccad4bdc43f1b5eaf0d4045b8384394a64a58c70c4b36e1c995d1"
  },
  "kernelspec": {
   "display_name": "Python 3 (ipykernel)",
   "language": "python",
   "name": "python3"
  },
  "language_info": {
   "codemirror_mode": {
    "name": "ipython",
    "version": 3
   },
   "file_extension": ".py",
   "mimetype": "text/x-python",
   "name": "python",
   "nbconvert_exporter": "python",
   "pygments_lexer": "ipython3",
   "version": "3.9.7"
  }
 },
 "nbformat": 4,
 "nbformat_minor": 5
}
