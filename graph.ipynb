{
 "cells": [
  {
   "cell_type": "code",
   "execution_count": 36,
   "id": "092059c9-4dbd-4d2d-9b58-23ce6785cf6c",
   "metadata": {},
   "outputs": [
    {
     "name": "stdout",
     "output_type": "stream",
     "text": [
      "Trabalho de Inteligência Artificial - AV2\n",
      "* Grupo:\n",
      " - Divaldo Aderaldo de Oliveira Júnior (1810534)\n",
      " - Igor Oliveira dos Santos (1913439)\n",
      "\n"
     ]
    },
    {
     "name": "stdin",
     "output_type": "stream",
     "text": [
      "\n",
      "Que tipo de grafo deseja criar?\n",
      "\n",
      "1) Com obstáculos\n",
      "2) Sem obstáculos\n",
      "\n",
      " 1\n"
     ]
    },
    {
     "name": "stdout",
     "output_type": "stream",
     "text": [
      "\n",
      "Grafo Atual:\n",
      "\n",
      "S 0 0 0 0 X 0 0 X X 0 0 0 0 0 0 X 0 0 X \n",
      "0 X 0 0 0 0 0 0 X 0 0 X 0 0 X 0 0 0 0 0 \n",
      "0 0 0 0 0 X 0 0 0 0 0 0 0 X 0 0 X 0 0 0 \n",
      "0 0 X 0 0 X 0 0 0 0 0 0 0 0 0 0 0 0 0 0 \n",
      "0 X X 0 0 0 X 0 0 X 0 0 0 0 X 0 0 0 0 0 \n",
      "0 0 0 0 0 0 0 0 0 0 0 0 0 X 0 0 0 X X 0 \n",
      "0 0 X 0 X 0 X 0 0 X X 0 0 0 0 0 0 0 0 0 \n",
      "0 X 0 0 0 0 0 0 0 0 0 0 0 0 0 0 0 0 0 0 \n",
      "0 0 X X 0 0 0 0 X 0 X 0 0 X X 0 0 0 0 0 \n",
      "0 0 0 X 0 0 0 0 0 X X 0 0 0 0 0 0 0 0 0 \n",
      "0 0 0 0 0 X 0 X 0 0 0 0 0 0 0 0 0 X X 0 \n",
      "0 0 0 0 0 0 X X X 0 0 0 0 0 0 0 0 0 X 0 \n",
      "0 0 0 0 0 X X 0 0 X 0 0 0 0 0 X 0 0 X 0 \n",
      "0 0 0 X 0 X X 0 0 0 0 0 0 0 0 0 0 0 X 0 \n",
      "0 0 0 0 0 0 0 0 X 0 0 X 0 0 0 X 0 X 0 0 \n",
      "0 0 0 0 0 0 0 X 0 X 0 X 0 0 0 0 0 0 X 0 \n",
      "0 0 0 0 0 0 0 0 0 0 X 0 0 0 0 0 0 0 0 0 \n",
      "X 0 0 0 0 0 0 0 0 X 0 0 X 0 0 0 0 0 0 0 \n",
      "0 0 0 0 0 0 0 0 0 0 0 X 0 0 0 0 0 X X 0 \n",
      "0 0 0 0 X 0 0 0 0 0 0 0 0 0 0 0 0 0 X E \n",
      "\n",
      "S -> Ponto de partida (0, 0)\n",
      "E -> Ponto de chegada (19, 19)\n",
      "0 -> Nó vazio e não visitado\n",
      "1 -> Nó visitado\n",
      "2 -> Caminho escolhido\n",
      "X -> Obstáculo\n"
     ]
    },
    {
     "name": "stdin",
     "output_type": "stream",
     "text": [
      "\n",
      "O que deseja fazer agora?\n",
      "1 - Efetuar busca\n",
      "2 - Modificar ponto de partida\n",
      "3 - Modificar ponto de chegada\n",
      "4 - Gerar novo grafo com obstáculos\n",
      "5 - Gerar novo grafo sem obstáculos\n",
      "6 - Encerrar\n",
      "\n",
      " 3\n",
      "\n",
      "Quais as novas coordenadas do ponto de chegada? (X, Y)\n",
      "\n",
      " 18,19\n"
     ]
    },
    {
     "name": "stdout",
     "output_type": "stream",
     "text": [
      "\n",
      "Há um obstáculo nessa coordenada!\n"
     ]
    },
    {
     "name": "stdin",
     "output_type": "stream",
     "text": [
      "\n",
      "Quais as novas coordenadas do ponto de chegada? (X, Y)\n",
      "\n",
      " 19,18\n"
     ]
    },
    {
     "name": "stdout",
     "output_type": "stream",
     "text": [
      "\n",
      "Grafo Atual:\n",
      "\n",
      "S 0 0 0 0 X 0 0 X X 0 0 0 0 0 0 X 0 0 X \n",
      "0 X 0 0 0 0 0 0 X 0 0 X 0 0 X 0 0 0 0 0 \n",
      "0 0 0 0 0 X 0 0 0 0 0 0 0 X 0 0 X 0 0 0 \n",
      "0 0 X 0 0 X 0 0 0 0 0 0 0 0 0 0 0 0 0 0 \n",
      "0 X X 0 0 0 X 0 0 X 0 0 0 0 X 0 0 0 0 0 \n",
      "0 0 0 0 0 0 0 0 0 0 0 0 0 X 0 0 0 X X 0 \n",
      "0 0 X 0 X 0 X 0 0 X X 0 0 0 0 0 0 0 0 0 \n",
      "0 X 0 0 0 0 0 0 0 0 0 0 0 0 0 0 0 0 0 0 \n",
      "0 0 X X 0 0 0 0 X 0 X 0 0 X X 0 0 0 0 0 \n",
      "0 0 0 X 0 0 0 0 0 X X 0 0 0 0 0 0 0 0 0 \n",
      "0 0 0 0 0 X 0 X 0 0 0 0 0 0 0 0 0 X X 0 \n",
      "0 0 0 0 0 0 X X X 0 0 0 0 0 0 0 0 0 X 0 \n",
      "0 0 0 0 0 X X 0 0 X 0 0 0 0 0 X 0 0 X 0 \n",
      "0 0 0 X 0 X X 0 0 0 0 0 0 0 0 0 0 0 X 0 \n",
      "0 0 0 0 0 0 0 0 X 0 0 X 0 0 0 X 0 X 0 0 \n",
      "0 0 0 0 0 0 0 X 0 X 0 X 0 0 0 0 0 0 X 0 \n",
      "0 0 0 0 0 0 0 0 0 0 X 0 0 0 0 0 0 0 0 0 \n",
      "X 0 0 0 0 0 0 0 0 X 0 0 X 0 0 0 0 0 0 0 \n",
      "0 0 0 0 0 0 0 0 0 0 0 X 0 0 0 0 0 X X E \n",
      "0 0 0 0 X 0 0 0 0 0 0 0 0 0 0 0 0 0 X 0 \n",
      "\n",
      "S -> Ponto de partida (0, 0)\n",
      "E -> Ponto de chegada (19, 18)\n",
      "0 -> Nó vazio e não visitado\n",
      "1 -> Nó visitado\n",
      "2 -> Caminho escolhido\n",
      "X -> Obstáculo\n"
     ]
    },
    {
     "name": "stdin",
     "output_type": "stream",
     "text": [
      "\n",
      "O que deseja fazer agora?\n",
      "1 - Efetuar busca\n",
      "2 - Modificar ponto de partida\n",
      "3 - Modificar ponto de chegada\n",
      "4 - Gerar novo grafo com obstáculos\n",
      "5 - Gerar novo grafo sem obstáculos\n",
      "6 - Encerrar\n",
      "\n",
      " 6\n"
     ]
    },
    {
     "name": "stdout",
     "output_type": "stream",
     "text": [
      "\n",
      "Encerrando script...\n"
     ]
    }
   ],
   "source": [
    "%run graph.py"
   ]
  },
  {
   "cell_type": "code",
   "execution_count": null,
   "id": "bbf08ed0-7590-40a2-bfdb-238ba39e0237",
   "metadata": {},
   "outputs": [],
   "source": []
  }
 ],
 "metadata": {
  "interpreter": {
   "hash": "e8347f64ddcccad4bdc43f1b5eaf0d4045b8384394a64a58c70c4b36e1c995d1"
  },
  "kernelspec": {
   "display_name": "Python 3 (ipykernel)",
   "language": "python",
   "name": "python3"
  },
  "language_info": {
   "codemirror_mode": {
    "name": "ipython",
    "version": 3
   },
   "file_extension": ".py",
   "mimetype": "text/x-python",
   "name": "python",
   "nbconvert_exporter": "python",
   "pygments_lexer": "ipython3",
   "version": "3.9.7"
  }
 },
 "nbformat": 4,
 "nbformat_minor": 5
}
